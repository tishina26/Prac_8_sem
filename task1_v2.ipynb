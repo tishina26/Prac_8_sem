{
  "nbformat": 4,
  "nbformat_minor": 0,
  "metadata": {
    "colab": {
      "provenance": [],
      "toc_visible": true,
      "collapsed_sections": [
        "3Cvg0jGlVgsB",
        "lGmTv8dJVyDv",
        "SLWw244ZsW8J",
        "z9BebQYbg2d9",
        "GEGEOazYsKsw",
        "JUD6tK22E6pJ",
        "Q5LvfS9NQv5a",
        "1HoC6VmJif-1"
      ]
    },
    "kernelspec": {
      "name": "python3",
      "display_name": "Python 3"
    },
    "language_info": {
      "name": "python"
    }
  },
  "cells": [
    {
      "cell_type": "code",
      "source": [
        "import numpy as np\n",
        "from scipy.optimize import linprog\n",
        "from scipy.optimize import minimize\n",
        "import pandas as pd"
      ],
      "metadata": {
        "id": "5r15PDRDWAYa"
      },
      "execution_count": 1,
      "outputs": []
    },
    {
      "cell_type": "markdown",
      "source": [
        "# my functions"
      ],
      "metadata": {
        "id": "3Cvg0jGlVgsB"
      }
    },
    {
      "cell_type": "code",
      "source": [
        "def my_grad(f, x, h=1e-6):\n",
        "  grad = np.zeros_like(x)\n",
        "  for i in range(len(x)):\n",
        "    x_plus_h = x.copy()\n",
        "    x_plus_h[i] += h\n",
        "    # grad[i] = (f(x_plus_h) - f(x)) / h\n",
        "    grad[i] = (f([(x[j] if j!=i else x[j] + h) for j in range(len(x))]) - f(x)) / h\n",
        "\n",
        "  return grad"
      ],
      "metadata": {
        "id": "Ve3GW1cgigTB"
      },
      "execution_count": 2,
      "outputs": []
    },
    {
      "cell_type": "code",
      "source": [
        "def norm(arr):\n",
        "    return sum(i**2 for i in arr)**0.5"
      ],
      "metadata": {
        "id": "s26wrMVEj-mj"
      },
      "execution_count": 3,
      "outputs": []
    },
    {
      "cell_type": "code",
      "source": [
        "def find_xk(f, a,b, tol=1e-6, max_iter = 100):\n",
        "    hk = 2 - (1 + 5**0.5) / 2\n",
        "\n",
        "    x1 = a + hk * (b - a)        # начальные точки\n",
        "    x2 = b - hk * (b - a)\n",
        "    # print(x1,x2)\n",
        "    f1 = f(x1)\n",
        "    f2 = f(x2)\n",
        "    # print(f1,f2)\n",
        "\n",
        "    for _ in range(max_iter):\n",
        "        # print(x1,x2)\n",
        "        if norm(b - a) < tol:\n",
        "            break\n",
        "        # print(\"f1f2\",f1,f2)\n",
        "        if f1 < f2:\n",
        "            b, x2, f2 = x2, x1, f1\n",
        "            x1 = a + hk * (b - a)\n",
        "            f1 = f(x1)\n",
        "        else:\n",
        "            a, x1, f1 = x1, x2, f2\n",
        "            x2 = b - hk * (b - a)\n",
        "            f2 = f(x2)\n",
        "\n",
        "    return (a + b) / 2\n"
      ],
      "metadata": {
        "id": "_voLSUZZVgZF"
      },
      "execution_count": 4,
      "outputs": []
    },
    {
      "cell_type": "markdown",
      "source": [
        "# Frank-Wolf"
      ],
      "metadata": {
        "id": "lGmTv8dJVyDv"
      }
    },
    {
      "cell_type": "code",
      "source": [
        "def frank_wolf(fi, x0, A, b, A_eq, b_eq, max_iter, eps, view=0):\n",
        "   xk = x0\n",
        "   k = 0\n",
        "   opt = {'k': 0,\n",
        "          'x': x0,\n",
        "          'f': 0,\n",
        "          'status': -1}\n",
        "\n",
        "   while (k <= max_iter):\n",
        "      df = my_grad(fi, xk)\n",
        "      if view: print(f'grad(x{k}) = {df}')\n",
        "\n",
        "      # minimize\n",
        "      if A is None:\n",
        "          res = linprog(df, A_eq=A_eq, b_eq=b_eq)\n",
        "      else:\n",
        "          res = linprog(df, A_ub=-A, b_ub=-b, A_eq=A_eq, b_eq=b_eq)\n",
        "      yk = res.x\n",
        "      if yk is None:\n",
        "          opt['status'] = -1\n",
        "          if view: print(\"yk is None: \", res)\n",
        "          return opt\n",
        "      if res.status != 0:\n",
        "          opt['status'] = -1\n",
        "          if view: print(\"status of linprog is not 0: \", res)\n",
        "          return opt\n",
        "      if view: print(f'y{k} = {yk}')\n",
        "\n",
        "      # alpha search for xk+1 = xk + ak(yk-xk) for 0<=ak<=1\n",
        "      prev = xk\n",
        "      xk = find_xk(fi,xk,yk)\n",
        "      if view: print(f'x{k} = {xk}')\n",
        "\n",
        "      # fill opt\n",
        "      opt['k'] = k\n",
        "      opt['f'] = fi(xk)\n",
        "      opt['x'] = xk\n",
        "      k += 1\n",
        "      # break\n",
        "      if (norm(xk - prev) < eps) and (abs(fi(xk) - fi(prev)) < eps):\n",
        "          opt['status'] = 0\n",
        "          break\n",
        "   return opt"
      ],
      "metadata": {
        "id": "tB43-_mfWJMV"
      },
      "execution_count": 5,
      "outputs": []
    },
    {
      "cell_type": "markdown",
      "source": [
        "# example"
      ],
      "metadata": {
        "id": "SLWw244ZsW8J"
      }
    },
    {
      "cell_type": "markdown",
      "source": [
        "f(x) -> min\n",
        "\n",
        "A * x >= b\n",
        "\n",
        "A_eq * x = b_eq"
      ],
      "metadata": {
        "id": "XSI7wzOObOyI"
      }
    },
    {
      "cell_type": "code",
      "source": [
        "res_fw = []\n",
        "res_min = []"
      ],
      "metadata": {
        "id": "lH87SOhbg_Fi"
      },
      "execution_count": 6,
      "outputs": []
    },
    {
      "cell_type": "markdown",
      "source": [
        "## ex1"
      ],
      "metadata": {
        "id": "z9BebQYbg2d9"
      }
    },
    {
      "cell_type": "code",
      "source": [
        "def f(x):\n",
        "    return x[0]**0.25 + (x[1]/x[0])**0.25 + (64/x[1])**0.25\n",
        "x0 = np.array([2,10])\n",
        "A = np.array([[1, 0],\n",
        "              [-1, 1],\n",
        "              [0, -1]])\n",
        "b = np.array([1, 0, -64])\n",
        "A_eq, b_eq = None, None\n",
        "max_iter = 100\n",
        "eps = 0.001\n",
        "opt = frank_wolf(f, x0, A, b, A_eq, b_eq, max_iter, eps, 1)\n",
        "# opt\n",
        "res = minimize(\n",
        "    f,\n",
        "    x0,\n",
        "    constraints = {\"type\": \"ineq\", \"fun\": lambda x: A @ x - b},\n",
        "    options={\"maxiter\": max_iter}, # Дополнительные параметры\n",
        ")\n",
        "# print(res)"
      ],
      "metadata": {
        "id": "gdaoKtODV0eh",
        "colab": {
          "base_uri": "https://localhost:8080/"
        },
        "outputId": "30949abc-f4da-46f1-9bed-d8234e3aaae9"
      },
      "execution_count": 7,
      "outputs": [
        {
          "output_type": "stream",
          "name": "stdout",
          "text": [
            "grad(x0) = [0 0]\n",
            "y0 = [ 1. 64.]\n",
            "x0 = [ 1.98547162 10.78453228]\n",
            "grad(x1) = [-0.04275941 -0.00079184]\n",
            "y1 = [64. 64.]\n",
            "x1 = [ 3.73024015 12.28174069]\n",
            "grad(x2) = [ 0.00286183 -0.00333502]\n",
            "y2 = [ 1. 64.]\n",
            "x2 = [ 3.59077851 14.92352776]\n",
            "grad(x3) = [-0.00356779 -0.00018834]\n",
            "y3 = [64. 64.]\n",
            "x3 = [ 3.93470002 15.20292971]\n",
            "grad(x4) = [ 0.00040582 -0.00049953]\n",
            "y4 = [ 1. 64.]\n",
            "x4 = [ 3.9023656  15.74057396]\n",
            "grad(x5) = [-7.47633067e-04 -4.49640325e-05]\n",
            "y5 = [64. 64.]\n",
            "x5 = [ 3.98389807 15.80604592]\n",
            "grad(x6) = [ 9.14734954e-05 -1.13904441e-04]\n",
            "y6 = [ 1. 64.]\n",
            "x6 = [ 3.97586987 15.93571212]\n",
            "grad(x7) = [-1.79431581e-04 -1.11084475e-05]\n",
            "y7 = [64. 64.]\n",
            "x7 = [ 3.99598901 15.9518225 ]\n",
            "grad(x8) = [ 2.23190355e-05 -2.78630452e-05]\n",
            "y8 = [ 1. 64.]\n",
            "x8 = [ 3.99398482 15.98396454]\n",
            "grad(x9) = [-4.44080328e-05 -2.76845213e-06]\n",
            "y9 = [64. 64.]\n",
            "x9 = [ 3.99899819 15.98797617]\n",
            "grad(x10) = [ 5.54845059e-06 -6.92690350e-06]\n",
            "y10 = [ 1. 64.]\n",
            "x10 = [ 3.99849732 15.99599467]\n",
            "grad(x11) = [-1.10720322e-05 -6.90114632e-07]\n",
            "y11 = [64. 64.]\n",
            "x11 = [ 3.99975003 15.9969969 ]\n",
            "grad(x12) = [ 1.39177558e-06 -1.72839520e-06]\n",
            "y12 = [ 1. 64.]\n",
            "x12 = [ 3.99962484 15.99900032]\n",
            "grad(x13) = [-2.75957035e-06 -1.72306613e-07]\n",
            "y13 = [64. 64.]\n",
            "x13 = [ 3.99993784 15.99925072]\n"
          ]
        }
      ]
    },
    {
      "cell_type": "code",
      "source": [
        "res_fw.append(opt)\n",
        "res_min.append(res)"
      ],
      "metadata": {
        "id": "0bHFXNNL-ocV"
      },
      "execution_count": 8,
      "outputs": []
    },
    {
      "cell_type": "markdown",
      "source": [
        "## ex2"
      ],
      "metadata": {
        "id": "GEGEOazYsKsw"
      }
    },
    {
      "cell_type": "code",
      "source": [
        "def f2(x):\n",
        "    return (x[0]-1)**2 + 2*(x[1]-1)**2 - 3\n",
        "x0 = np.array([0,0])\n",
        "A = np.array([[-1, -2],\n",
        "              [-2, 1],\n",
        "              [0, 1],\n",
        "              [1, 0]])\n",
        "b = np.array([-8, -12, 0, 0])\n",
        "A_eq, b_eq = None, None\n",
        "max_iter = 100\n",
        "eps = 0.001\n",
        "opt = frank_wolf(f2, x0, A, b, A_eq, b_eq, max_iter, eps, 1)\n",
        "print(opt)\n",
        "res = minimize(\n",
        "    f2,\n",
        "    x0,\n",
        "    constraints = {\"type\": \"ineq\", \"fun\": lambda x: A @ x - b},\n",
        "    options={\"maxiter\": max_iter}, # Дополнительные параметры\n",
        ")\n",
        "# print(res)"
      ],
      "metadata": {
        "id": "e_tXnbmgsMSM",
        "colab": {
          "base_uri": "https://localhost:8080/"
        },
        "outputId": "ef93e362-673f-405a-b982-4a46f4040648"
      },
      "execution_count": 9,
      "outputs": [
        {
          "output_type": "stream",
          "name": "stdout",
          "text": [
            "grad(x0) = [-1 -3]\n",
            "y0 = [0. 4.]\n",
            "x0 = [0.         0.99999987]\n",
            "grad(x1) = [-1.99999900e+00  1.49236179e-06]\n",
            "y1 = [6.4 0.8]\n",
            "x1 = [0.99805061 0.96881081]\n",
            "grad(x2) = [-0.00389779 -0.12475475]\n",
            "y2 = [0. 4.]\n",
            "x2 = [0.98840948 0.99809197]\n",
            "grad(x3) = [-0.02318004 -0.00763013]\n",
            "y3 = [6.4 0.8]\n",
            "x3 = [0.99982981 0.99767393]\n",
            "grad(x4) = [-0.00033938 -0.0093023 ]\n",
            "y4 = [0. 4.]\n",
            "x4 = [0.99910481 0.999851  ]\n",
            "grad(x5) = [-0.00178939 -0.000594  ]\n",
            "y5 = [6.4 0.8]\n",
            "x5 = [0.99998668 0.99981837]\n",
            "{'k': 5, 'x': array([0.99998668, 0.99981837]), 'f': np.float64(-2.9999999338417465), 'status': 0}\n"
          ]
        }
      ]
    },
    {
      "cell_type": "code",
      "source": [
        "res_fw.append(opt)\n",
        "res_min.append(res)"
      ],
      "metadata": {
        "id": "aTvvlFEpsXtB"
      },
      "execution_count": 10,
      "outputs": []
    },
    {
      "cell_type": "markdown",
      "source": [
        "## ex3"
      ],
      "metadata": {
        "id": "JUD6tK22E6pJ"
      }
    },
    {
      "cell_type": "code",
      "source": [
        "def f2(x):\n",
        "    return -(-x[0]**2 + x[0]*x[1] - 2 * x[1]**2 + 4*x[0]+6*x[1])\n",
        "x0 = np.array([3,1])\n",
        "A = np.array([[-1, -1],\n",
        "              [1, 2],\n",
        "              [0, 1],\n",
        "              [1, 0]])\n",
        "b = np.array([-4, 2, 0, 0])\n",
        "A_eq, b_eq = None, None\n",
        "max_iter = 1000\n",
        "eps = 0.0001\n",
        "opt = frank_wolf(f2, x0, A, b, A_eq, b_eq, max_iter, eps, 1)\n",
        "print(opt)\n",
        "res = minimize(\n",
        "    f2,\n",
        "    x0,\n",
        "    constraints = {\"type\": \"ineq\", \"fun\": lambda x: A @ x - b},\n",
        "    options={\"maxiter\": max_iter}, # Дополнительные параметры\n",
        ")\n",
        "# print(res)"
      ],
      "metadata": {
        "id": "k_6G-z3kE8hl",
        "colab": {
          "base_uri": "https://localhost:8080/"
        },
        "outputId": "a94478bb-e4f3-49d6-8300-6401192a089e"
      },
      "execution_count": 11,
      "outputs": [
        {
          "output_type": "stream",
          "name": "stdout",
          "text": [
            "grad(x0) = [ 1 -4]\n",
            "y0 = [0. 4.]\n",
            "x0 = [2.2500001 1.7499999]\n",
            "grad(x1) = [-1.24999872 -1.24999848]\n",
            "y1 = [4. 0.]\n",
            "x1 = [2.25000039 1.74999961]\n",
            "{'k': 1, 'x': array([2.25000039, 1.74999961]), 'f': np.float64(-12.249999999999407), 'status': 0}\n"
          ]
        }
      ]
    },
    {
      "cell_type": "code",
      "source": [
        "res_fw.append(opt)\n",
        "res_min.append(res)"
      ],
      "metadata": {
        "id": "dok_UbndF9OD"
      },
      "execution_count": 12,
      "outputs": []
    },
    {
      "cell_type": "markdown",
      "source": [
        "##ex4"
      ],
      "metadata": {
        "id": "Q5LvfS9NQv5a"
      }
    },
    {
      "cell_type": "code",
      "source": [
        "def f2(x):\n",
        "    return np.sin(x[0]) + np.cos(x[1]**2)\n",
        "x0 = np.array([0.1,0.1])\n",
        "A = np.array([[-1, -1],\n",
        "              [0,1],\n",
        "              [1,0],\n",
        "              [2,5]])\n",
        "b = np.array([-4,0,0,1])\n",
        "A_eq, b_eq = None, None\n",
        "max_iter = 1000\n",
        "eps = 0.0001\n",
        "opt = frank_wolf(f2, x0, A, b, A_eq, b_eq, max_iter, eps, 1)\n",
        "print(opt)\n",
        "res = minimize(\n",
        "    f2,\n",
        "    x0,\n",
        "    constraints = {\"type\": \"ineq\", \"fun\": lambda x: A @ x - b},\n",
        "    options={\"maxiter\": max_iter}, # Дополнительные параметры\n",
        ")\n",
        "# print(res)"
      ],
      "metadata": {
        "id": "jMpu21FcQue3",
        "colab": {
          "base_uri": "https://localhost:8080/"
        },
        "outputId": "a3198578-9cf9-47e5-d291-9916f7a761c0"
      },
      "execution_count": 13,
      "outputs": [
        {
          "output_type": "stream",
          "name": "stdout",
          "text": [
            "grad(x0) = [ 0.99500412 -0.002     ]\n",
            "y0 = [0. 4.]\n",
            "x0 = [0.05706443 1.77448741]\n",
            "grad(x1) = [0.99837224 0.02560454]\n",
            "y1 = [0.  0.2]\n",
            "x1 = [0.0568861  1.76956718]\n",
            "grad(x2) = [ 0.99838239 -0.03617953]\n",
            "y2 = [0. 4.]\n",
            "x2 = [0.02370246 3.07065605]\n",
            "grad(x3) = [0.9997191  0.02550895]\n",
            "y3 = [0.  0.2]\n",
            "x3 = [0.01297803 1.77179662]\n",
            "grad(x4) = [ 0.99991578 -0.00824811]\n",
            "y4 = [0. 4.]\n",
            "x4 = [0.00541594 3.07013467]\n",
            "grad(x5) = [0.99998533 0.00584555]\n",
            "y5 = [0.  0.2]\n",
            "x5 = [0.00296694 1.77230372]\n",
            "grad(x6) = [ 0.9999956 -0.0018801]\n",
            "y6 = [0. 4.]\n",
            "x6 = [1.23859067e-03 3.07001551e+00]\n",
            "grad(x7) = [0.99999923 0.00135299]\n",
            "y7 = [0.  0.2]\n",
            "x7 = [6.78597169e-04 1.77241973e+00]\n",
            "grad(x8) = [ 9.99999769e-01 -4.22501256e-04]\n",
            "y8 = [0. 4.]\n",
            "x8 = [2.83313431e-04 3.06998815e+00]\n",
            "grad(x9) = [9.99999960e-01 3.21330629e-04]\n",
            "y9 = [0.  0.2]\n",
            "x9 = [1.55225412e-04 1.77244607e+00]\n",
            "grad(x10) = [ 9.99999988e-01 -9.14365250e-05]\n",
            "y10 = [0. 4.]\n",
            "x10 = [6.48076020e-05 3.06998199e+00]\n",
            "grad(x11) = [9.99999998e-01 8.93615182e-05]\n",
            "y11 = [0.  0.2]\n",
            "x11 = [3.55078359e-05 1.77245210e+00]\n",
            "grad(x12) = [ 9.99999999e-01 -1.57452940e-05]\n",
            "y12 = [0. 4.]\n",
            "x12 = [1.48248131e-05 3.06998046e+00]\n",
            "grad(x13) = [1.00000000e+00 3.15164561e-05]\n",
            "y13 = [0.  0.2]\n",
            "x13 = [8.12246908e-06 1.77245339e+00]\n",
            "grad(x14) = [1.00000000e+00 4.79394302e-07]\n",
            "y14 = [0.  0.2]\n",
            "x14 = [8.12246690e-06 1.77245297e+00]\n",
            "{'k': 14, 'x': array([8.12246690e-06, 1.77245297e+00]), 'f': np.float64(-0.999991877528189), 'status': 0}\n"
          ]
        }
      ]
    },
    {
      "cell_type": "code",
      "source": [
        "res_fw.append(opt)\n",
        "res_min.append(res)"
      ],
      "metadata": {
        "id": "-GylHzeQQyHv"
      },
      "execution_count": 14,
      "outputs": []
    },
    {
      "cell_type": "markdown",
      "source": [
        "# result table"
      ],
      "metadata": {
        "id": "DmP60pZthm7m"
      }
    },
    {
      "cell_type": "markdown",
      "source": [
        "##fun"
      ],
      "metadata": {
        "id": "2_WZn7kwicAa"
      }
    },
    {
      "cell_type": "code",
      "source": [
        "def round_arr(arr, r=3):\n",
        "    t = 10**r\n",
        "    arr2 = []\n",
        "    for i in range(len(arr)):\n",
        "        arr2.append(int(arr[i]*t)/t)\n",
        "    return arr2"
      ],
      "metadata": {
        "id": "euzyUSP0FZ4F"
      },
      "execution_count": 37,
      "outputs": []
    },
    {
      "cell_type": "code",
      "source": [
        "def compare_results_df(res_fw, res_min, eps=1e-3, r=4):\n",
        "    for i in range(len(res_fw)):\n",
        "        fw = res_fw[i]\n",
        "        mn = res_min[i]\n",
        "\n",
        "        fun_comparison = abs(fw['f'] - mn.fun) < eps\n",
        "\n",
        "        status_comparison = 0 if ((fw['status'] == mn.status) == 0) else -1\n",
        "\n",
        "        x_comparison = \"-\"\n",
        "\n",
        "        if fw['k'] == mn.nit:\n",
        "            nit_comparison = \"равны\"\n",
        "        elif fw['k'] > mn.nit:\n",
        "            nit_comparison = \"Ф-В хуже\"\n",
        "        else:\n",
        "            nit_comparison = \"Ф-В лучше\"\n",
        "\n",
        "        data = {\n",
        "            \"Метод Франка-Вульфа\": [fw['f'], fw['status'], round_arr(fw['x']), fw['k']],\n",
        "            \"Минимизация\": [mn.fun, mn.status, round_arr(mn.x), mn.nit],\n",
        "            \"Сравнение\": [fun_comparison, status_comparison, x_comparison, nit_comparison]\n",
        "        }\n",
        "\n",
        "        df = pd.DataFrame(data, index=[\"F\", \"статус\", \"x\", \"Кол-во итераций\"])\n",
        "\n",
        "        print(f\"\\nПример {i+1}:\")\n",
        "        print(df)\n"
      ],
      "metadata": {
        "id": "k6TaOnduhphv"
      },
      "execution_count": 22,
      "outputs": []
    },
    {
      "cell_type": "markdown",
      "source": [
        "##see"
      ],
      "metadata": {
        "id": "1HoC6VmJif-1"
      }
    },
    {
      "cell_type": "code",
      "source": [
        "compare_results_df(res_fw, res_min)"
      ],
      "metadata": {
        "id": "YtQ0aSwtmdA0"
      },
      "execution_count": null,
      "outputs": []
    }
  ]
}